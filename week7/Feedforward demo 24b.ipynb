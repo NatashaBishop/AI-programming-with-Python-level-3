{
 "cells": [
  {
   "cell_type": "code",
   "execution_count": 1,
   "id": "edd89662",
   "metadata": {},
   "outputs": [],
   "source": [
    "#Import library\n",
    "import numpy as np"
   ]
  },
  {
   "cell_type": "code",
   "execution_count": 2,
   "id": "846dbb68",
   "metadata": {},
   "outputs": [
    {
     "data": {
      "text/plain": [
       "array([ 0.3063,  0.25  , -0.0666])"
      ]
     },
     "execution_count": 2,
     "metadata": {},
     "output_type": "execute_result"
    }
   ],
   "source": [
    "# Initailsie input layer\n",
    "X = np.array([0.3063,0.2500, -0.0666])\n",
    "X"
   ]
  },
  {
   "cell_type": "code",
   "execution_count": 3,
   "id": "3f9395b2",
   "metadata": {},
   "outputs": [
    {
     "data": {
      "text/plain": [
       "array([ 0.0381, -0.2476,  0.6095, -0.3904, -0.0085])"
      ]
     },
     "execution_count": 3,
     "metadata": {},
     "output_type": "execute_result"
    }
   ],
   "source": [
    "#Initialise target\n",
    "y = np.array([0.0381,-0.2476,0.6095,-0.3904,-0.0085])\n",
    "y"
   ]
  },
  {
   "cell_type": "code",
   "execution_count": 4,
   "id": "d68f56e1",
   "metadata": {},
   "outputs": [
    {
     "data": {
      "text/plain": [
       "array([[0.72401792, 0.49658329, 0.16408886, 0.90925518, 0.21320256],\n",
       "       [0.89488949, 0.99967253, 0.35703981, 0.42806158, 0.6966687 ],\n",
       "       [0.14799775, 0.80547955, 0.33495672, 0.94672135, 0.88049467]])"
      ]
     },
     "execution_count": 4,
     "metadata": {},
     "output_type": "execute_result"
    }
   ],
   "source": [
    "# Initialise weight from input layer to h1 hidden layer\n",
    "weight_L12 = np.random.rand(3,5)\n",
    "weight_L12"
   ]
  },
  {
   "cell_type": "code",
   "execution_count": 5,
   "id": "289c4357",
   "metadata": {},
   "outputs": [
    {
     "data": {
      "text/plain": [
       "array([0.43563241, 0.34837666, 0.11721225, 0.32246862, 0.18083017])"
      ]
     },
     "execution_count": 5,
     "metadata": {},
     "output_type": "execute_result"
    }
   ],
   "source": [
    "# Compute the dot products of input and L12 weights values\n",
    "lnr_comb_L12 = np.dot(X,weight_L12)\n",
    "lnr_comb_L12"
   ]
  },
  {
   "cell_type": "code",
   "execution_count": 6,
   "id": "c458f09c",
   "metadata": {},
   "outputs": [],
   "source": [
    "#Define ReELU function\n",
    "def Relu(x):\n",
    "    return np.maximum(0,x)\n"
   ]
  },
  {
   "cell_type": "code",
   "execution_count": 7,
   "id": "d23aa1ba",
   "metadata": {},
   "outputs": [
    {
     "data": {
      "text/plain": [
       "array([0.43563241, 0.34837666, 0.11721225, 0.32246862, 0.18083017])"
      ]
     },
     "execution_count": 7,
     "metadata": {},
     "output_type": "execute_result"
    }
   ],
   "source": [
    "def hidden__vector(linear_combination):\n",
    "    lnr_combs = []\n",
    "    for i,v in enumerate(linear_combination):\n",
    "        comb = Relu(v)\n",
    "        lnr_combs.append(comb)\n",
    "    return np.array(lnr_combs)\n",
    "lnr_combs = hidden__vector(lnr_comb_L12)\n",
    "lnr_combs"
   ]
  },
  {
   "cell_type": "code",
   "execution_count": 8,
   "id": "35604c68",
   "metadata": {},
   "outputs": [],
   "source": [
    "#Call Relu function on result of the dot products into each neuron in h1 hidden layer, store the result in vector\n",
    "lnr_combs = []\n",
    "for i,v in enumerate(lnr_comb_L12):\n",
    "    comb = Relu(v)\n",
    "    lnr_combs.append(comb)\n",
    "lnr_combs = np.array(lnr_combs)\n"
   ]
  },
  {
   "cell_type": "code",
   "execution_count": 9,
   "id": "14f6fa22",
   "metadata": {},
   "outputs": [
    {
     "data": {
      "text/plain": [
       "array([[0.23684069, 0.04299142, 0.22606952],\n",
       "       [0.85357858, 0.28919663, 0.80413139],\n",
       "       [0.29114827, 0.21272954, 0.98645238],\n",
       "       [0.73110702, 0.98127709, 0.06516359],\n",
       "       [0.49361614, 0.63901464, 0.48580567]])"
      ]
     },
     "execution_count": 9,
     "metadata": {},
     "output_type": "execute_result"
    }
   ],
   "source": [
    "# Initialise weight from input layer to h2 hidden layer\n",
    "weight_L23 = np.random.rand(5,3)\n",
    "weight_L23"
   ]
  },
  {
   "cell_type": "code",
   "execution_count": 10,
   "id": "70c6e30a",
   "metadata": {},
   "outputs": [
    {
     "data": {
      "text/plain": [
       "array([0.83939664, 1.04397002, 0.84885185])"
      ]
     },
     "execution_count": 10,
     "metadata": {},
     "output_type": "execute_result"
    }
   ],
   "source": [
    "#Call Relu function on result of the dot products into each neuron in h2 hidden layer, store the result in vector\n",
    "lnr_comb_L23 = np.dot(lnr_combs,weight_L12.T)\n",
    "lnr_comb_L23"
   ]
  },
  {
   "cell_type": "code",
   "execution_count": 11,
   "id": "b3f1a7bb",
   "metadata": {},
   "outputs": [
    {
     "data": {
      "text/plain": [
       "array([0.83939664, 1.04397002, 0.84885185])"
      ]
     },
     "execution_count": 11,
     "metadata": {},
     "output_type": "execute_result"
    }
   ],
   "source": [
    "lnr_combs34 = hidden__vector(lnr_comb_L23)\n",
    "lnr_combs34"
   ]
  },
  {
   "cell_type": "code",
   "execution_count": 12,
   "id": "e1d9441a",
   "metadata": {},
   "outputs": [
    {
     "data": {
      "text/plain": [
       "array([[0.00169944],\n",
       "       [0.13021476],\n",
       "       [0.66275755]])"
      ]
     },
     "execution_count": 12,
     "metadata": {},
     "output_type": "execute_result"
    }
   ],
   "source": [
    "weight_L34 = np.random.rand(3,1)\n",
    "weight_L34"
   ]
  },
  {
   "cell_type": "code",
   "execution_count": 13,
   "id": "2974866d",
   "metadata": {},
   "outputs": [
    {
     "data": {
      "text/plain": [
       "(3, 1)"
      ]
     },
     "execution_count": 13,
     "metadata": {},
     "output_type": "execute_result"
    }
   ],
   "source": [
    "weight_L34.shape"
   ]
  },
  {
   "cell_type": "code",
   "execution_count": 14,
   "id": "c484a946",
   "metadata": {},
   "outputs": [
    {
     "data": {
      "text/plain": [
       "array([0.69994978])"
      ]
     },
     "execution_count": 14,
     "metadata": {},
     "output_type": "execute_result"
    }
   ],
   "source": [
    "res = np.dot(lnr_combs34,weight_L34)\n",
    "res"
   ]
  },
  {
   "cell_type": "code",
   "execution_count": null,
   "id": "70b9cfd7",
   "metadata": {},
   "outputs": [],
   "source": []
  },
  {
   "cell_type": "code",
   "execution_count": null,
   "id": "c2a7d094",
   "metadata": {},
   "outputs": [],
   "source": []
  },
  {
   "cell_type": "code",
   "execution_count": null,
   "id": "cd844854",
   "metadata": {},
   "outputs": [],
   "source": []
  },
  {
   "cell_type": "code",
   "execution_count": 15,
   "id": "8a23aa26",
   "metadata": {},
   "outputs": [],
   "source": [
    "# Feedforward function\n",
    "def feedforward(inputs, weights, biases):\n",
    "    layer_input = inputs\n",
    "    for weight, bias in zip(weights,biases):\n",
    "        print(weights, biases)\n",
    "        layer_input = np.dot(layer_input, weight) + bias\n",
    "        layer_input = Relu(layer_input)\n",
    "    return layer_input\n"
   ]
  },
  {
   "cell_type": "code",
   "execution_count": 16,
   "id": "15b8ef2c",
   "metadata": {},
   "outputs": [
    {
     "name": "stdout",
     "output_type": "stream",
     "text": [
      "[array([[ 1.76405235,  0.40015721,  0.97873798,  2.2408932 ,  1.86755799],\n",
      "       [-0.97727788,  0.95008842, -0.15135721, -0.10321885,  0.4105985 ],\n",
      "       [ 0.14404357,  1.45427351,  0.76103773,  0.12167502,  0.44386323]]), array([[ 0.33367433,  1.49407907, -0.20515826],\n",
      "       [ 0.3130677 , -0.85409574, -2.55298982],\n",
      "       [ 0.6536186 ,  0.8644362 , -0.74216502],\n",
      "       [ 2.26975462, -1.45436567,  0.04575852],\n",
      "       [-0.18718385,  1.53277921,  1.46935877]]), array([[ 0.15494743],\n",
      "       [ 0.37816252],\n",
      "       [-0.88778575]])] [array([-1.98079647, -0.34791215,  0.15634897,  1.23029068,  1.20237985]), array([-0.38732682, -0.30230275, -1.04855297]), array([-1.42001794])]\n",
      "[array([[ 1.76405235,  0.40015721,  0.97873798,  2.2408932 ,  1.86755799],\n",
      "       [-0.97727788,  0.95008842, -0.15135721, -0.10321885,  0.4105985 ],\n",
      "       [ 0.14404357,  1.45427351,  0.76103773,  0.12167502,  0.44386323]]), array([[ 0.33367433,  1.49407907, -0.20515826],\n",
      "       [ 0.3130677 , -0.85409574, -2.55298982],\n",
      "       [ 0.6536186 ,  0.8644362 , -0.74216502],\n",
      "       [ 2.26975462, -1.45436567,  0.04575852],\n",
      "       [-0.18718385,  1.53277921,  1.46935877]]), array([[ 0.15494743],\n",
      "       [ 0.37816252],\n",
      "       [-0.88778575]])] [array([-1.98079647, -0.34791215,  0.15634897,  1.23029068,  1.20237985]), array([-0.38732682, -0.30230275, -1.04855297]), array([-1.42001794])]\n",
      "[array([[ 1.76405235,  0.40015721,  0.97873798,  2.2408932 ,  1.86755799],\n",
      "       [-0.97727788,  0.95008842, -0.15135721, -0.10321885,  0.4105985 ],\n",
      "       [ 0.14404357,  1.45427351,  0.76103773,  0.12167502,  0.44386323]]), array([[ 0.33367433,  1.49407907, -0.20515826],\n",
      "       [ 0.3130677 , -0.85409574, -2.55298982],\n",
      "       [ 0.6536186 ,  0.8644362 , -0.74216502],\n",
      "       [ 2.26975462, -1.45436567,  0.04575852],\n",
      "       [-0.18718385,  1.53277921,  1.46935877]]), array([[ 0.15494743],\n",
      "       [ 0.37816252],\n",
      "       [-0.88778575]])] [array([-1.98079647, -0.34791215,  0.15634897,  1.23029068,  1.20237985]), array([-0.38732682, -0.30230275, -1.04855297]), array([-1.42001794])]\n",
      "Output of the neural network: [0.26692433]\n"
     ]
    }
   ],
   "source": [
    "# Define network architecture\n",
    "input_size = 3\n",
    "hidden_layer_size = 5\n",
    "hidden_layer_size2 = 3\n",
    "output_size = 1\n",
    "\n",
    "# Initialize weights and biases\n",
    "np.random.seed(0)\n",
    "weights = [\n",
    "    np.random.randn(input_size, hidden_layer_size),\n",
    "    np.random.randn(hidden_layer_size,hidden_layer_size2 ),\n",
    "    np.random.randn(hidden_layer_size2, output_size)\n",
    "]\n",
    "biases = [\n",
    "    np.random.randn(hidden_layer_size),\n",
    "    np.random.randn(hidden_layer_size2),\n",
    "    np.random.randn(output_size)\n",
    "]\n",
    "\n",
    "\n",
    "\n",
    "# Input data\n",
    "\n",
    "inputs = np.array([1.0, 2.0, 3.0])\n",
    "#inputs= X\n",
    "\n",
    "# Perform feedforward\n",
    "output = feedforward(inputs, weights, biases)\n",
    "print(\"Output of the neural network:\", output)\n"
   ]
  },
  {
   "cell_type": "code",
   "execution_count": 17,
   "id": "c4d4436a",
   "metadata": {},
   "outputs": [
    {
     "name": "stdout",
     "output_type": "stream",
     "text": [
      "[array([[0.72401792, 0.49658329, 0.16408886, 0.90925518, 0.21320256],\n",
      "       [0.89488949, 0.99967253, 0.35703981, 0.42806158, 0.6966687 ],\n",
      "       [0.14799775, 0.80547955, 0.33495672, 0.94672135, 0.88049467]]), array([[0.23684069, 0.04299142, 0.22606952],\n",
      "       [0.85357858, 0.28919663, 0.80413139],\n",
      "       [0.29114827, 0.21272954, 0.98645238],\n",
      "       [0.73110702, 0.98127709, 0.06516359],\n",
      "       [0.49361614, 0.63901464, 0.48580567]]), array([[0.00169944],\n",
      "       [0.13021476],\n",
      "       [0.66275755]])] [array([1.76405235, 0.40015721, 0.97873798, 2.2408932 , 1.86755799]), array([-0.97727788,  0.95008842, -0.15135721]), array([-0.10321885])]\n",
      "[array([[0.72401792, 0.49658329, 0.16408886, 0.90925518, 0.21320256],\n",
      "       [0.89488949, 0.99967253, 0.35703981, 0.42806158, 0.6966687 ],\n",
      "       [0.14799775, 0.80547955, 0.33495672, 0.94672135, 0.88049467]]), array([[0.23684069, 0.04299142, 0.22606952],\n",
      "       [0.85357858, 0.28919663, 0.80413139],\n",
      "       [0.29114827, 0.21272954, 0.98645238],\n",
      "       [0.73110702, 0.98127709, 0.06516359],\n",
      "       [0.49361614, 0.63901464, 0.48580567]]), array([[0.00169944],\n",
      "       [0.13021476],\n",
      "       [0.66275755]])] [array([1.76405235, 0.40015721, 0.97873798, 2.2408932 , 1.86755799]), array([-0.97727788,  0.95008842, -0.15135721]), array([-0.10321885])]\n",
      "[array([[0.72401792, 0.49658329, 0.16408886, 0.90925518, 0.21320256],\n",
      "       [0.89488949, 0.99967253, 0.35703981, 0.42806158, 0.6966687 ],\n",
      "       [0.14799775, 0.80547955, 0.33495672, 0.94672135, 0.88049467]]), array([[0.23684069, 0.04299142, 0.22606952],\n",
      "       [0.85357858, 0.28919663, 0.80413139],\n",
      "       [0.29114827, 0.21272954, 0.98645238],\n",
      "       [0.73110702, 0.98127709, 0.06516359],\n",
      "       [0.49361614, 0.63901464, 0.48580567]]), array([[0.00169944],\n",
      "       [0.13021476],\n",
      "       [0.66275755]])] [array([1.76405235, 0.40015721, 0.97873798, 2.2408932 , 1.86755799]), array([-0.97727788,  0.95008842, -0.15135721]), array([-0.10321885])]\n",
      "Output of the neural network: [9.30707501]\n"
     ]
    }
   ],
   "source": [
    "# Define network architecture\n",
    "input_size = 3\n",
    "hidden_layer_size = 5\n",
    "hidden_layer_size2 = 3\n",
    "output_size = 1\n",
    "\n",
    "# Initialize weights and biases\n",
    "np.random.seed(0)\n",
    "weights = [\n",
    "    weight_L12,\n",
    "    weight_L23,\n",
    "    weight_L34\n",
    "]\n",
    "biases = [\n",
    "    np.random.randn(hidden_layer_size),\n",
    "    np.random.randn(hidden_layer_size2),\n",
    "    np.random.randn(output_size)\n",
    "\n",
    "]\n",
    "\n",
    "\n",
    "\n",
    "# Input data\n",
    "\n",
    "inputs = np.array([1.0, 2.0, 3.0])\n",
    "#inputs= X\n",
    "\n",
    "# Perform feedforward\n",
    "output = feedforward(inputs, weights, biases)\n",
    "print(\"Output of the neural network:\", output)\n"
   ]
  },
  {
   "cell_type": "code",
   "execution_count": 18,
   "id": "dd2d3fc8",
   "metadata": {},
   "outputs": [
    {
     "name": "stdout",
     "output_type": "stream",
     "text": [
      "Help on class enumerate in module builtins:\n",
      "\n",
      "class enumerate(object)\n",
      " |  enumerate(iterable, start=0)\n",
      " |  \n",
      " |  Return an enumerate object.\n",
      " |  \n",
      " |    iterable\n",
      " |      an object supporting iteration\n",
      " |  \n",
      " |  The enumerate object yields pairs containing a count (from start, which\n",
      " |  defaults to zero) and a value yielded by the iterable argument.\n",
      " |  \n",
      " |  enumerate is useful for obtaining an indexed list:\n",
      " |      (0, seq[0]), (1, seq[1]), (2, seq[2]), ...\n",
      " |  \n",
      " |  Methods defined here:\n",
      " |  \n",
      " |  __getattribute__(self, name, /)\n",
      " |      Return getattr(self, name).\n",
      " |  \n",
      " |  __iter__(self, /)\n",
      " |      Implement iter(self).\n",
      " |  \n",
      " |  __next__(self, /)\n",
      " |      Implement next(self).\n",
      " |  \n",
      " |  __reduce__(...)\n",
      " |      Return state information for pickling.\n",
      " |  \n",
      " |  ----------------------------------------------------------------------\n",
      " |  Class methods defined here:\n",
      " |  \n",
      " |  __class_getitem__(...) from builtins.type\n",
      " |      See PEP 585\n",
      " |  \n",
      " |  ----------------------------------------------------------------------\n",
      " |  Static methods defined here:\n",
      " |  \n",
      " |  __new__(*args, **kwargs) from builtins.type\n",
      " |      Create and return a new object.  See help(type) for accurate signature.\n",
      "\n",
      "None\n"
     ]
    }
   ],
   "source": [
    "print(help(enumerate))"
   ]
  }
 ],
 "metadata": {
  "kernelspec": {
   "display_name": "Python 3 (ipykernel)",
   "language": "python",
   "name": "python3"
  },
  "language_info": {
   "codemirror_mode": {
    "name": "ipython",
    "version": 3
   },
   "file_extension": ".py",
   "mimetype": "text/x-python",
   "name": "python",
   "nbconvert_exporter": "python",
   "pygments_lexer": "ipython3",
   "version": "3.11.4"
  }
 },
 "nbformat": 4,
 "nbformat_minor": 5
}
