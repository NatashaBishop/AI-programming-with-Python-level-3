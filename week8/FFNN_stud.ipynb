{
 "cells": [
  {
   "cell_type": "code",
   "execution_count": 182,
   "id": "da238464",
   "metadata": {},
   "outputs": [],
   "source": [
    "import numpy as np"
   ]
  },
  {
   "cell_type": "code",
   "execution_count": 183,
   "id": "028c6674",
   "metadata": {},
   "outputs": [],
   "source": [
    "# Activation function (ReLU)\n",
    "def relu(x):\n",
    "    return np.maximum(0, x)"
   ]
  },
  {
   "cell_type": "code",
   "execution_count": 184,
   "id": "551c8804",
   "metadata": {},
   "outputs": [],
   "source": [
    "#Derivative of Sigmoid\n",
    "def sigmoid(x):\n",
    "    return  1/(1 + np.exp(-x))"
   ]
  },
  {
   "cell_type": "code",
   "execution_count": 185,
   "id": "bfcff284",
   "metadata": {},
   "outputs": [],
   "source": [
    "\n",
    "# Define network architecture\n",
    "input_size = 3\n",
    "hidden_layer_size = 3\n",
    "output_size = 2"
   ]
  },
  {
   "cell_type": "code",
   "execution_count": 186,
   "id": "44d0df47",
   "metadata": {},
   "outputs": [],
   "source": [
    "np.random.seed(0)"
   ]
  },
  {
   "cell_type": "code",
   "execution_count": 187,
   "id": "864a97d7",
   "metadata": {},
   "outputs": [],
   "source": [
    "# Initialize input_data, weights and biases\n",
    "input_data = np.random.rand(3,1).T\n",
    "\n",
    "weights = [\n",
    "    np.random.randn(input_size, hidden_layer_size),\n",
    "    np.random.randn(hidden_layer_size, output_size)\n",
    "]\n",
    "biases = [\n",
    "    np.random.randn(hidden_layer_size),\n",
    "    np.random.randn(output_size)\n",
    "]\n"
   ]
  },
  {
   "cell_type": "code",
   "execution_count": 188,
   "id": "5a5cb928",
   "metadata": {},
   "outputs": [],
   "source": [
    "# Feedforward function\n",
    "def feedforwards(inputs, weights, biases):\n",
    "    layer1_output = relu(np.add(np.dot(input_data, weights[0]), biases[0]))\n",
    "    layer2_output = sigmoid(np.add(np.dot(layer1_output, weights[1]), biases[1]))\n",
    "    return layer2_output\n",
    "    "
   ]
  },
  {
   "cell_type": "code",
   "execution_count": 189,
   "id": "82d77957",
   "metadata": {},
   "outputs": [
    {
     "name": "stdout",
     "output_type": "stream",
     "text": [
      "The predicted value is [[0.95044983 0.1239541 ]]\n"
     ]
    }
   ],
   "source": [
    "FNN= feedforwards(input_data, weights, biases)\n",
    "print(f'The predicted value is {FNN}')"
   ]
  },
  {
   "cell_type": "code",
   "execution_count": null,
   "id": "3f63e238",
   "metadata": {},
   "outputs": [],
   "source": []
  },
  {
   "cell_type": "code",
   "execution_count": null,
   "id": "142cfb7a",
   "metadata": {},
   "outputs": [],
   "source": []
  },
  {
   "cell_type": "code",
   "execution_count": null,
   "id": "5fccc699",
   "metadata": {},
   "outputs": [],
   "source": []
  },
  {
   "cell_type": "code",
   "execution_count": null,
   "id": "bfd85f49",
   "metadata": {},
   "outputs": [],
   "source": []
  },
  {
   "cell_type": "code",
   "execution_count": null,
   "id": "a5dca40e",
   "metadata": {},
   "outputs": [],
   "source": []
  },
  {
   "cell_type": "code",
   "execution_count": 190,
   "id": "4caa0aa1",
   "metadata": {},
   "outputs": [
    {
     "data": {
      "text/plain": [
       "[array([0.37692697, 0.03343893, 0.68056724]),\n",
       " array([-1.56349669, -0.56669762])]"
      ]
     },
     "execution_count": 190,
     "metadata": {},
     "output_type": "execute_result"
    }
   ],
   "source": [
    "biases"
   ]
  },
  {
   "cell_type": "code",
   "execution_count": 191,
   "id": "1fea1889",
   "metadata": {},
   "outputs": [
    {
     "data": {
      "text/plain": [
       "array([[0.5488135 , 0.71518937, 0.60276338]])"
      ]
     },
     "execution_count": 191,
     "metadata": {},
     "output_type": "execute_result"
    }
   ],
   "source": [
    "input_data"
   ]
  },
  {
   "cell_type": "code",
   "execution_count": 192,
   "id": "2622316b",
   "metadata": {},
   "outputs": [
    {
     "data": {
      "text/plain": [
       "[array([[-2.2683282 ,  1.33354538, -0.84272405],\n",
       "        [ 1.96992445,  1.26611853, -0.50587654],\n",
       "        [ 2.54520078,  1.08081191,  0.48431215]]),\n",
       " array([[ 0.57914048, -0.18158257],\n",
       "        [ 1.41020463, -0.37447169],\n",
       "        [ 0.27519832, -0.96075461]])]"
      ]
     },
     "execution_count": 192,
     "metadata": {},
     "output_type": "execute_result"
    }
   ],
   "source": [
    "weights"
   ]
  },
  {
   "cell_type": "code",
   "execution_count": 193,
   "id": "a39d4f4c",
   "metadata": {},
   "outputs": [
    {
     "data": {
      "text/plain": [
       "(3, 3)"
      ]
     },
     "execution_count": 193,
     "metadata": {},
     "output_type": "execute_result"
    }
   ],
   "source": [
    "weights[0].shape"
   ]
  },
  {
   "cell_type": "code",
   "execution_count": 194,
   "id": "aa970222",
   "metadata": {},
   "outputs": [
    {
     "data": {
      "text/plain": [
       "array([[ 1.69813368,  2.28885606, -0.53237023]])"
      ]
     },
     "execution_count": 194,
     "metadata": {},
     "output_type": "execute_result"
    }
   ],
   "source": [
    "np.dot(input_data, weights[0])"
   ]
  },
  {
   "cell_type": "code",
   "execution_count": 195,
   "id": "a5188b02",
   "metadata": {},
   "outputs": [
    {
     "data": {
      "text/plain": [
       "(1, 3)"
      ]
     },
     "execution_count": 195,
     "metadata": {},
     "output_type": "execute_result"
    }
   ],
   "source": [
    "input_data.shape"
   ]
  },
  {
   "cell_type": "code",
   "execution_count": 196,
   "id": "e88a7e82",
   "metadata": {},
   "outputs": [
    {
     "data": {
      "text/plain": [
       "array([[0.88845547, 0.91070675, 0.53698159]])"
      ]
     },
     "execution_count": 196,
     "metadata": {},
     "output_type": "execute_result"
    }
   ],
   "source": [
    "sigmoid(np.add(np.dot(input_data, weights[0]), biases[0]))"
   ]
  },
  {
   "cell_type": "code",
   "execution_count": 197,
   "id": "c3092629",
   "metadata": {},
   "outputs": [
    {
     "data": {
      "text/plain": [
       "array([[2.07506066, 2.32229499, 0.14819701]])"
      ]
     },
     "execution_count": 197,
     "metadata": {},
     "output_type": "execute_result"
    }
   ],
   "source": [
    "FF1= relu(np.add(np.dot(input_data, weights[0]), biases[0]))\n",
    "FF1"
   ]
  },
  {
   "cell_type": "code",
   "execution_count": 198,
   "id": "b351a9ba",
   "metadata": {},
   "outputs": [
    {
     "data": {
      "text/plain": [
       "array([[2.07506066, 2.32229499, 0.14819701]])"
      ]
     },
     "execution_count": 198,
     "metadata": {},
     "output_type": "execute_result"
    }
   ],
   "source": [
    "np.add(np.dot(input_data, weights[0]), biases[0])"
   ]
  }
 ],
 "metadata": {
  "kernelspec": {
   "display_name": "Python 3 (ipykernel)",
   "language": "python",
   "name": "python3"
  },
  "language_info": {
   "codemirror_mode": {
    "name": "ipython",
    "version": 3
   },
   "file_extension": ".py",
   "mimetype": "text/x-python",
   "name": "python",
   "nbconvert_exporter": "python",
   "pygments_lexer": "ipython3",
   "version": "3.11.4"
  }
 },
 "nbformat": 4,
 "nbformat_minor": 5
}
